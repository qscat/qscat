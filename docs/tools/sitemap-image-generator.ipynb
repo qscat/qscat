{
 "cells": [
  {
   "cell_type": "code",
   "execution_count": 3,
   "metadata": {},
   "outputs": [],
   "source": [
    "import os\n",
    "import xml.etree.ElementTree as ET\n",
    "\n",
    "# Define the namespaces\n",
    "namespaces = {\n",
    "    '': 'http://www.sitemaps.org/schemas/sitemap/0.9',\n",
    "    'image': 'http://www.google.com/schemas/sitemap-image/1.1'\n",
    "}\n",
    "for prefix, uri in namespaces.items():\n",
    "    ET.register_namespace(prefix, uri)\n",
    "\n",
    "# Create the root element\n",
    "urlset = ET.Element('urlset', {'xmlns': namespaces[''], 'xmlns:image': namespaces['image']})\n",
    "\n",
    "# Walk through the source directory\n",
    "for dirpath, dirnames, filenames in os.walk('../source/'):\n",
    "    for filename in filenames:\n",
    "        if filename.endswith('.rst'):\n",
    "            with open(os.path.join(dirpath, filename), 'r') as file:\n",
    "                content = file.read()\n",
    "                # Create a new URL element\n",
    "                url = ET.SubElement(urlset, 'url')\n",
    "                # Add the loc element\n",
    "                html_filename = filename.replace('.rst', '.html')\n",
    "                relative_dirpath = os.path.relpath(dirpath, '../source/')\n",
    "                if relative_dirpath == '.':\n",
    "                    ET.SubElement(url, 'loc').text = f'https://qscat.github.io/docs/latest/{html_filename}'\n",
    "                else:\n",
    "                    ET.SubElement(url, 'loc').text = f'https://qscat.github.io/docs/latest/{relative_dirpath}/{html_filename}'\n",
    "                # Find image directives\n",
    "                for line in content.split('\\n'):\n",
    "                    if line.strip().startswith('.. figure::'):\n",
    "                        image_path = line.strip().split('::')[1].strip()\n",
    "                        image_filename = os.path.basename(image_path)\n",
    "                        # Add the image:image element\n",
    "                        image = ET.SubElement(url, 'image:image')\n",
    "                        # Add the image:loc element\n",
    "                        ET.SubElement(image, 'image:loc').text = f'https://qscat.github.io/docs/latest/_images/{image_filename}'\n",
    "\n",
    "# # Write the XML to a file\n",
    "tree = ET.ElementTree(urlset)\n",
    "tree.write('sitemap_img.xml', encoding='utf-8', xml_declaration=True)\n"
   ]
  },
  {
   "cell_type": "code",
   "execution_count": 2,
   "metadata": {},
   "outputs": [
    {
     "name": "stdout",
     "output_type": "stream",
     "text": [
      "../source/ ['img', '_static', 'changelog', 'manual'] ['refs.bib', 'favicon.ico', 'conf.py', 'index.rst', 'qscat-logo.svg']\n",
      "../source/img ['baseline', 'automator', 'summary_reports', 'forecasting', 'visualization', 'transects', 'shorelines', 'area_change', 'workflow', 'project_settings', 'shoreline_change'] ['action-open-table.png', 'action-split-features.png', 'action-new-vector-layer.png', 'toolbox.png', 'action-toggle-editing.png', 'search.png', 'merge-vector-layers.png', 'action-add-polygon.png', 'python.png', 'action-select-features.png', 'qscat.png', 'cursor-point.png', 'radiobutton.png', 'select.png', 'checkbox.png', 'action-merge-features.png']\n",
      "../source/img/baseline [] ['baseline-tab-fields.png', 'baseline-orientation.png', 'baseline-tab-layer.png', 'baseline-tab-placement.png', 'baseline-tab-orientation.png', 'baseline-tab.png', 'baseline-placement.png']\n",
      "../source/img/automator [] ['automator-tab-shorelines-fields.png', 'automator-tab-baseline-fields.png', 'automator-tab.png', 'automator-tab-baseline-buffer.png']\n",
      "../source/img/summary_reports [] ['summary-reports-tab.png']\n",
      "../source/img/forecasting [] ['forecasting-tab-layer.png', 'forecasting-tab-time-period.png', 'forecasting-tab-algorithm.png', 'forecasting-tab.png']\n",
      "../source/img/visualization [] ['visualization-tab.png', 'visualization-tab-layer.png', 'visualization-tab-color-ramp.png']\n",
      "../source/img/transects [] ['transects-smoothing-distance.png', 'transects-tab.png', 'transects-spacing.png', 'transects-tab-count.png', 'transects-count.png', 'transects-length.png', 'transects-tab-layer.png', 'transects-tab-parameters.png']\n",
      "../source/img/shorelines [] ['shorelines-tab.png', 'shorelines-tab-fields.png', 'shorelines-tab-layer.png']\n",
      "../source/img/area_change [] ['area-change-tab.png', 'area-change-process.png', 'area-change-tab-general.png']\n",
      "../source/img/workflow ['simple_data'] []\n",
      "../source/img/workflow/simple_data ['attributes', 'merge', 'forecasting', 'visualization', 'transects', 'area_change', 'buffer', 'shoreline_change'] []\n",
      "../source/img/workflow/simple_data/attributes [] ['opening-attribute-table.png', 'saving-attribute-table.png', 'configuring-baseline.png', 'editing-attribute-table.png', 'automating-shoreline-fields.png', 'configuring-shorelines.png']\n",
      "../source/img/workflow/simple_data/merge [] ['opening-processing-toolbox.png', 'showing-saved-merge-vector-layer.png', 'choosing-destination-crs.png', 'closing-merge-vector-layers.png', 'selecting-input-layers.png', 'running-merge-vector-layers.png', 'opening-save-merge-layers.png', 'searching-merge-vector-layers.png', 'saving-merged-vector-layer.png']\n",
      "../source/img/workflow/simple_data/forecasting [] ['example-forecasting.png', 'forecasting.png']\n",
      "../source/img/workflow/simple_data/visualization [] ['visualized-nsm-statistic-color-ramp-values.png', 'visualizing-nsm-statistic.png', 'visualized-nsm-statistic.png']\n",
      "../source/img/workflow/simple_data/transects [] ['layer-with-transects.png', 'transects.png', 'casting-transects.png']\n",
      "../source/img/workflow/simple_data/area_change [] ['changing-symbology.png', 'final-saving-shapefile-layer.png', 'example-area-change.png', 'saving-shapefile-layer.png', 'drawing-polygon.png', 'polygon-feature.png', 'opening-symbology.png', 'opening-new-shapefile-layer.png', 'opening-add-polygon-feature.png', 'computing-area-change.png']\n",
      "../source/img/workflow/simple_data/buffer [] ['selecting-deleting-features.png', 'opening-saving-feature.png', 'saving-vector-layer-as-final.png', 'splitting-features.png', 'advanced-digitizing-toolbar.png', 'unexpected-split.png', 'merging-features.png', 'clicking-merge-features.png', 'toggling-editing.png', 'saving-vector-layer-as.png', 'creating-baseline-buffer.png', 'clicking-select-features.png', 'saving-layer-as.png', 'created-buffer-on-merged-shoreline.png', 'clicking-split-features.png', 'enabling-advanced-digitizing-toolbar.png']\n",
      "../source/img/workflow/simple_data/shoreline_change [] ['statistics.png', 'nsm-table.png', 'nsm.png', 'computing-shoreline-change.png']\n",
      "../source/img/project_settings [] ['project-settings-tab.png', 'project-settings-tab-crs-error.png', 'project-settings-tab-crs.png']\n",
      "../source/img/shoreline_change [] ['shoreline-change-tab-pairwise-comparison-of-shorelines.png', 'shoreline-change-tab.png', 'shoreline-change-tab-transect-shorelines-intersections.png', 'shoreline-change-tab-general.png', 'shoreline-change-tab-shoreline-change-statistics.png', 'shoreline-change-tab-additional-parameters.png', 'transects-shorelines-intersections.png']\n",
      "../source/_static ['css'] ['qscat-logo-dark.svg', 'qscat-logo.svg']\n",
      "../source/_static/css [] ['qscat.css']\n",
      "../source/changelog [] ['0.3.1-changelog.rst', '0.4.1-changelog.rst', '0.4.0-changelog.rst', '0.3.0-changelog.rst', '0.2.0-changelog.rst', 'index.rst', '0.1.0-changelog.rst']\n",
      "../source/manual ['others', 'introduction', 'tabs', 'plugin'] ['index.rst']\n",
      "../source/manual/others ['appendices'] ['references.rst', 'sample_workflow.rst', 'help_and_support.rst', 'contributors.rst']\n",
      "../source/manual/others/appendices [] ['warnings_errors.rst', 'example_summary_report.rst', 'index.rst']\n",
      "../source/manual/introduction [] ['installation.rst', 'overview.rst', 'features.rst', 'requirements.rst']\n",
      "../source/manual/tabs [] ['visualization.rst', 'about.rst', 'transects.rst', 'forecasting.rst', 'summary_reports.rst', 'baseline.rst', 'project_settings.rst', 'shorelines.rst', 'area_change.rst', 'shoreline_change.rst', 'automator.rst']\n",
      "../source/manual/plugin [] ['required_inputs.rst']\n"
     ]
    }
   ],
   "source": [
    "for dirpath, dirnames, filenames in os.walk('../source/'):\n",
    "    print(dirpath, dirnames, filenames)"
   ]
  }
 ],
 "metadata": {
  "kernelspec": {
   "display_name": "qgis-3.34.5",
   "language": "python",
   "name": "python3"
  },
  "language_info": {
   "codemirror_mode": {
    "name": "ipython",
    "version": 3
   },
   "file_extension": ".py",
   "mimetype": "text/x-python",
   "name": "python",
   "nbconvert_exporter": "python",
   "pygments_lexer": "ipython3",
   "version": "3.12.2"
  }
 },
 "nbformat": 4,
 "nbformat_minor": 2
}
